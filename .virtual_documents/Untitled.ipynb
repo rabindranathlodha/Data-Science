a=7


b=13


a+b



