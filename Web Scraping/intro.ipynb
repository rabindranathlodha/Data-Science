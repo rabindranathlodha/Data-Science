{
 "cells": [
  {
   "cell_type": "code",
   "execution_count": 2,
   "id": "a0f65dcc",
   "metadata": {},
   "outputs": [],
   "source": [
    "import requests\n"
   ]
  },
  {
   "cell_type": "code",
   "execution_count": 3,
   "id": "c00f5d98",
   "metadata": {},
   "outputs": [],
   "source": [
    "a = requests.get('https://books.toscrape.com/')"
   ]
  },
  {
   "cell_type": "code",
   "execution_count": 9,
   "id": "c28289f5",
   "metadata": {},
   "outputs": [
    {
     "name": "stdout",
     "output_type": "stream",
     "text": [
      "Page 1 saved successfully.\n",
      "Page 2 saved successfully.\n",
      "Page 3 saved successfully.\n",
      "Page 4 saved successfully.\n",
      "Page 5 saved successfully.\n",
      "Page 6 saved successfully.\n",
      "Page 7 saved successfully.\n",
      "Page 8 saved successfully.\n",
      "Page 9 saved successfully.\n",
      "Page 10 saved successfully.\n",
      "Page 11 saved successfully.\n",
      "Page 12 saved successfully.\n",
      "Page 13 saved successfully.\n",
      "Page 14 saved successfully.\n",
      "Page 15 saved successfully.\n",
      "Page 16 saved successfully.\n",
      "Page 17 saved successfully.\n",
      "Page 18 saved successfully.\n",
      "Page 19 saved successfully.\n",
      "Page 20 saved successfully.\n",
      "Page 21 saved successfully.\n",
      "Page 22 saved successfully.\n",
      "Page 23 saved successfully.\n",
      "Page 24 saved successfully.\n",
      "Page 25 saved successfully.\n",
      "Page 26 saved successfully.\n",
      "Page 27 saved successfully.\n",
      "Page 28 saved successfully.\n",
      "Page 29 saved successfully.\n",
      "Page 30 saved successfully.\n",
      "Page 31 saved successfully.\n",
      "Page 32 saved successfully.\n",
      "Page 33 saved successfully.\n",
      "Page 34 saved successfully.\n",
      "Page 35 saved successfully.\n",
      "Page 36 saved successfully.\n",
      "Page 37 saved successfully.\n",
      "Page 38 saved successfully.\n",
      "Page 39 saved successfully.\n",
      "Page 40 saved successfully.\n",
      "Page 41 saved successfully.\n",
      "Page 42 saved successfully.\n",
      "Page 43 saved successfully.\n",
      "Page 44 saved successfully.\n",
      "Page 45 saved successfully.\n",
      "Page 46 saved successfully.\n",
      "Page 47 saved successfully.\n",
      "Page 48 saved successfully.\n",
      "Page 49 saved successfully.\n",
      "Page 50 saved successfully.\n"
     ]
    }
   ],
   "source": [
    "for i in range(1, 51):\n",
    "    a = requests.get(f'https://books.toscrape.com/catalogue/page-{i}.html')\n",
    "    with open(f'htmls/page-{i}.html', 'w', encoding=\"utf-8\") as f:\n",
    "        f.write(a.text)\n",
    "        print(f'Page {i} saved successfully.')"
   ]
  },
  {
   "cell_type": "code",
   "execution_count": null,
   "id": "a014eafc",
   "metadata": {},
   "outputs": [],
   "source": []
  }
 ],
 "metadata": {
  "kernelspec": {
   "display_name": "Python 3",
   "language": "python",
   "name": "python3"
  },
  "language_info": {
   "codemirror_mode": {
    "name": "ipython",
    "version": 3
   },
   "file_extension": ".py",
   "mimetype": "text/x-python",
   "name": "python",
   "nbconvert_exporter": "python",
   "pygments_lexer": "ipython3",
   "version": "3.13.1"
  }
 },
 "nbformat": 4,
 "nbformat_minor": 5
}
