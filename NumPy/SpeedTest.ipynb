{
 "cells": [
  {
   "cell_type": "markdown",
   "id": "03cf1b11",
   "metadata": {},
   "source": [
    "Zipping in python"
   ]
  },
  {
   "cell_type": "code",
   "execution_count": 8,
   "id": "9a2df0c9",
   "metadata": {},
   "outputs": [
    {
     "data": {
      "text/plain": [
       "[(1, 4), (2, 5), (3, 6)]"
      ]
     },
     "execution_count": 8,
     "metadata": {},
     "output_type": "execute_result"
    }
   ],
   "source": [
    "l1 = [1,2,3]\n",
    "l2 = [4,5,6]\n",
    "list(zip(l1, l2))"
   ]
  },
  {
   "cell_type": "markdown",
   "id": "12a56cbb",
   "metadata": {},
   "source": [
    "Speed test using Python Lists"
   ]
  },
  {
   "cell_type": "code",
   "execution_count": 4,
   "id": "bcff732a",
   "metadata": {},
   "outputs": [
    {
     "name": "stdout",
     "output_type": "stream",
     "text": [
      "List comprehension took 13.976207 seconds\n"
     ]
    }
   ],
   "source": [
    "import time\n",
    "\n",
    "size = 1_000_00000\n",
    "\n",
    "l1 = list(range(size))\n",
    "l2 = list(range(size))\n",
    "\n",
    "start = time.time()\n",
    "\n",
    "add = [x+y for x, y in zip(l1, l2)]\n",
    "end = time.time()\n",
    "\n",
    "print(f\"List comprehension took {end - start:.6f} seconds\")"
   ]
  },
  {
   "cell_type": "markdown",
   "id": "7b5b7276",
   "metadata": {},
   "source": [
    "Speed test using mupy library"
   ]
  },
  {
   "cell_type": "code",
   "execution_count": 6,
   "id": "2d2a71d9",
   "metadata": {},
   "outputs": [
    {
     "name": "stdout",
     "output_type": "stream",
     "text": [
      "List comprehension took 0.265009 seconds\n"
     ]
    }
   ],
   "source": [
    "import numpy as np\n",
    "import time\n",
    "\n",
    "size = 1_000_00000\n",
    "\n",
    "l1 = np.array(list(range(size)))\n",
    "l2 = np.array(list(range(size)))\n",
    "\n",
    "start = time.time()\n",
    "\n",
    "add = l1 + l2\n",
    "end = time.time()\n",
    "\n",
    "print(f\"List comprehension took {end - start:.6f} seconds\")"
   ]
  }
 ],
 "metadata": {
  "kernelspec": {
   "display_name": "Python 3",
   "language": "python",
   "name": "python3"
  },
  "language_info": {
   "codemirror_mode": {
    "name": "ipython",
    "version": 3
   },
   "file_extension": ".py",
   "mimetype": "text/x-python",
   "name": "python",
   "nbconvert_exporter": "python",
   "pygments_lexer": "ipython3",
   "version": "3.13.1"
  }
 },
 "nbformat": 4,
 "nbformat_minor": 5
}
